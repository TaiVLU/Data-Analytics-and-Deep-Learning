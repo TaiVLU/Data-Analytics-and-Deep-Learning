{
 "cells": [
  {
   "cell_type": "markdown",
   "metadata": {},
   "source": [
    "# Làm sạch dữ liệu cơ bản\n"
   ]
  },
  {
   "cell_type": "markdown",
   "metadata": {},
   "source": [
    "## 1. Tạo dữ liệu"
   ]
  },
  {
   "cell_type": "code",
   "execution_count": 1,
   "metadata": {},
   "outputs": [
    {
     "name": "stdout",
     "output_type": "stream",
     "text": [
      "   id   name  age                email   salary\n",
      "0   1    Anh   20       anh@vlu.edu.vn      NaN\n",
      "1   2     Em   14         em@gmail.com  70000.0\n",
      "2   3  Phong   28  phong@vanlanguni.vn  10000.0\n",
      "3   4    Phú   12        phu@yahoo.com  25000.0\n",
      "4   5   None   50                 None  15000.0\n"
     ]
    }
   ],
   "source": [
    "import pandas as pd\n",
    "\n",
    "data = {\n",
    "    \"id\" : [1, 2, 3, 4, 5],\n",
    "    \"name\" : [\"Anh\", \"Em\", \"Phong\", \"Phú\", None],\n",
    "    \"age\" : [20, 14, 28, 12, 50],\n",
    "    \"email\" : [\"anh@vlu.edu.vn\", \"em@gmail.com\", \"phong@vanlanguni.vn\", \"phu@yahoo.com\", None],\n",
    "    \"salary\" : [None, 70000, 10000, 25000, 15000]\n",
    "}\n",
    "df = pd.DataFrame(data)\n",
    "\n",
    "print(df)"
   ]
  },
  {
   "cell_type": "code",
   "execution_count": 2,
   "metadata": {},
   "outputs": [
    {
     "data": {
      "text/html": [
       "<div>\n",
       "<style scoped>\n",
       "    .dataframe tbody tr th:only-of-type {\n",
       "        vertical-align: middle;\n",
       "    }\n",
       "\n",
       "    .dataframe tbody tr th {\n",
       "        vertical-align: top;\n",
       "    }\n",
       "\n",
       "    .dataframe thead th {\n",
       "        text-align: right;\n",
       "    }\n",
       "</style>\n",
       "<table border=\"1\" class=\"dataframe\">\n",
       "  <thead>\n",
       "    <tr style=\"text-align: right;\">\n",
       "      <th></th>\n",
       "      <th>id</th>\n",
       "      <th>name</th>\n",
       "      <th>age</th>\n",
       "      <th>email</th>\n",
       "      <th>salary</th>\n",
       "    </tr>\n",
       "  </thead>\n",
       "  <tbody>\n",
       "    <tr>\n",
       "      <th>0</th>\n",
       "      <td>1</td>\n",
       "      <td>Anh</td>\n",
       "      <td>20</td>\n",
       "      <td>anh@vlu.edu.vn</td>\n",
       "      <td>NaN</td>\n",
       "    </tr>\n",
       "    <tr>\n",
       "      <th>1</th>\n",
       "      <td>2</td>\n",
       "      <td>Em</td>\n",
       "      <td>14</td>\n",
       "      <td>em@gmail.com</td>\n",
       "      <td>70000.0</td>\n",
       "    </tr>\n",
       "    <tr>\n",
       "      <th>2</th>\n",
       "      <td>3</td>\n",
       "      <td>Phong</td>\n",
       "      <td>28</td>\n",
       "      <td>phong@vanlanguni.vn</td>\n",
       "      <td>10000.0</td>\n",
       "    </tr>\n",
       "    <tr>\n",
       "      <th>3</th>\n",
       "      <td>4</td>\n",
       "      <td>Phú</td>\n",
       "      <td>12</td>\n",
       "      <td>phu@yahoo.com</td>\n",
       "      <td>25000.0</td>\n",
       "    </tr>\n",
       "    <tr>\n",
       "      <th>4</th>\n",
       "      <td>5</td>\n",
       "      <td>None</td>\n",
       "      <td>50</td>\n",
       "      <td>None</td>\n",
       "      <td>15000.0</td>\n",
       "    </tr>\n",
       "  </tbody>\n",
       "</table>\n",
       "</div>"
      ],
      "text/plain": [
       "   id   name  age                email   salary\n",
       "0   1    Anh   20       anh@vlu.edu.vn      NaN\n",
       "1   2     Em   14         em@gmail.com  70000.0\n",
       "2   3  Phong   28  phong@vanlanguni.vn  10000.0\n",
       "3   4    Phú   12        phu@yahoo.com  25000.0\n",
       "4   5   None   50                 None  15000.0"
      ]
     },
     "execution_count": 2,
     "metadata": {},
     "output_type": "execute_result"
    }
   ],
   "source": [
    "# Lấy 5 dòng đầu tiên\n",
    "\n",
    "df.head()"
   ]
  },
  {
   "cell_type": "code",
   "execution_count": 3,
   "metadata": {},
   "outputs": [
    {
     "data": {
      "text/plain": [
       "id        0\n",
       "name      1\n",
       "age       0\n",
       "email     1\n",
       "salary    1\n",
       "dtype: int64"
      ]
     },
     "execution_count": 3,
     "metadata": {},
     "output_type": "execute_result"
    }
   ],
   "source": [
    "# Kiểm tra dữ liệu thiếu\n",
    "\n",
    "df.isnull().sum()"
   ]
  },
  {
   "cell_type": "code",
   "execution_count": 4,
   "metadata": {},
   "outputs": [
    {
     "name": "stderr",
     "output_type": "stream",
     "text": [
      "C:\\Users\\Admin\\AppData\\Local\\Temp\\ipykernel_4676\\2614624665.py:3: FutureWarning: A value is trying to be set on a copy of a DataFrame or Series through chained assignment using an inplace method.\n",
      "The behavior will change in pandas 3.0. This inplace method will never work because the intermediate object on which we are setting values always behaves as a copy.\n",
      "\n",
      "For example, when doing 'df[col].method(value, inplace=True)', try using 'df.method({col: value}, inplace=True)' or df[col] = df[col].method(value) instead, to perform the operation inplace on the original object.\n",
      "\n",
      "\n",
      "  df[\"salary\"].fillna(df[\"salary\"].mean(), inplace=True)\n"
     ]
    }
   ],
   "source": [
    "# Điền giá trị thiếu bằng giá trị trung bình cho cột salary\n",
    "\n",
    "df[\"salary\"].fillna(df[\"salary\"].mean(), inplace=True)"
   ]
  },
  {
   "cell_type": "code",
   "execution_count": 7,
   "metadata": {},
   "outputs": [
    {
     "name": "stderr",
     "output_type": "stream",
     "text": [
      "C:\\Users\\Admin\\AppData\\Local\\Temp\\ipykernel_4676\\335058598.py:4: FutureWarning: A value is trying to be set on a copy of a DataFrame or Series through chained assignment using an inplace method.\n",
      "The behavior will change in pandas 3.0. This inplace method will never work because the intermediate object on which we are setting values always behaves as a copy.\n",
      "\n",
      "For example, when doing 'df[col].method(value, inplace=True)', try using 'df.method({col: value}, inplace=True)' or df[col] = df[col].method(value) instead, to perform the operation inplace on the original object.\n",
      "\n",
      "\n",
      "  df[\"email\"].fillna(\"Unknow\", inplace=True)\n"
     ]
    }
   ],
   "source": [
    "# Điền giá trị thiếu bằng Unknow cho cột \"Name\" và cột \"email\"\n",
    "\n",
    "df[\"name\"].fillna(\"Unknow\", inplace=True)\n",
    "df[\"email\"].fillna(\"Unknow\", inplace=True)"
   ]
  },
  {
   "cell_type": "code",
   "execution_count": 5,
   "metadata": {},
   "outputs": [
    {
     "data": {
      "text/plain": [
       "id        0\n",
       "name      1\n",
       "age       0\n",
       "email     1\n",
       "salary    0\n",
       "dtype: int64"
      ]
     },
     "execution_count": 5,
     "metadata": {},
     "output_type": "execute_result"
    }
   ],
   "source": [
    "# Kiểm tra lại dữ liệu thiếu\n",
    "\n",
    "df.isnull().sum()"
   ]
  },
  {
   "cell_type": "code",
   "execution_count": 8,
   "metadata": {},
   "outputs": [
    {
     "data": {
      "text/html": [
       "<div>\n",
       "<style scoped>\n",
       "    .dataframe tbody tr th:only-of-type {\n",
       "        vertical-align: middle;\n",
       "    }\n",
       "\n",
       "    .dataframe tbody tr th {\n",
       "        vertical-align: top;\n",
       "    }\n",
       "\n",
       "    .dataframe thead th {\n",
       "        text-align: right;\n",
       "    }\n",
       "</style>\n",
       "<table border=\"1\" class=\"dataframe\">\n",
       "  <thead>\n",
       "    <tr style=\"text-align: right;\">\n",
       "      <th></th>\n",
       "      <th>id</th>\n",
       "      <th>name</th>\n",
       "      <th>age</th>\n",
       "      <th>email</th>\n",
       "      <th>salary</th>\n",
       "    </tr>\n",
       "  </thead>\n",
       "  <tbody>\n",
       "    <tr>\n",
       "      <th>0</th>\n",
       "      <td>1</td>\n",
       "      <td>Anh</td>\n",
       "      <td>20</td>\n",
       "      <td>anh@vlu.edu.vn</td>\n",
       "      <td>30000.0</td>\n",
       "    </tr>\n",
       "    <tr>\n",
       "      <th>1</th>\n",
       "      <td>2</td>\n",
       "      <td>Em</td>\n",
       "      <td>14</td>\n",
       "      <td>em@gmail.com</td>\n",
       "      <td>70000.0</td>\n",
       "    </tr>\n",
       "    <tr>\n",
       "      <th>2</th>\n",
       "      <td>3</td>\n",
       "      <td>Phong</td>\n",
       "      <td>28</td>\n",
       "      <td>phong@vanlanguni.vn</td>\n",
       "      <td>10000.0</td>\n",
       "    </tr>\n",
       "    <tr>\n",
       "      <th>3</th>\n",
       "      <td>4</td>\n",
       "      <td>Phú</td>\n",
       "      <td>12</td>\n",
       "      <td>phu@yahoo.com</td>\n",
       "      <td>25000.0</td>\n",
       "    </tr>\n",
       "    <tr>\n",
       "      <th>4</th>\n",
       "      <td>5</td>\n",
       "      <td>Unknow</td>\n",
       "      <td>50</td>\n",
       "      <td>Unknow</td>\n",
       "      <td>15000.0</td>\n",
       "    </tr>\n",
       "  </tbody>\n",
       "</table>\n",
       "</div>"
      ],
      "text/plain": [
       "   id    name  age                email   salary\n",
       "0   1     Anh   20       anh@vlu.edu.vn  30000.0\n",
       "1   2      Em   14         em@gmail.com  70000.0\n",
       "2   3   Phong   28  phong@vanlanguni.vn  10000.0\n",
       "3   4     Phú   12        phu@yahoo.com  25000.0\n",
       "4   5  Unknow   50               Unknow  15000.0"
      ]
     },
     "execution_count": 8,
     "metadata": {},
     "output_type": "execute_result"
    }
   ],
   "source": [
    "df.head()"
   ]
  },
  {
   "cell_type": "code",
   "execution_count": 11,
   "metadata": {},
   "outputs": [
    {
     "data": {
      "text/html": [
       "<div>\n",
       "<style scoped>\n",
       "    .dataframe tbody tr th:only-of-type {\n",
       "        vertical-align: middle;\n",
       "    }\n",
       "\n",
       "    .dataframe tbody tr th {\n",
       "        vertical-align: top;\n",
       "    }\n",
       "\n",
       "    .dataframe thead th {\n",
       "        text-align: right;\n",
       "    }\n",
       "</style>\n",
       "<table border=\"1\" class=\"dataframe\">\n",
       "  <thead>\n",
       "    <tr style=\"text-align: right;\">\n",
       "      <th></th>\n",
       "      <th>id</th>\n",
       "      <th>name</th>\n",
       "      <th>age</th>\n",
       "      <th>email</th>\n",
       "      <th>salary</th>\n",
       "    </tr>\n",
       "  </thead>\n",
       "  <tbody>\n",
       "    <tr>\n",
       "      <th>0</th>\n",
       "      <td>1</td>\n",
       "      <td>Anh</td>\n",
       "      <td>20</td>\n",
       "      <td>anh@vlu.edu.vn</td>\n",
       "      <td>30000.0</td>\n",
       "    </tr>\n",
       "    <tr>\n",
       "      <th>1</th>\n",
       "      <td>2</td>\n",
       "      <td>Em</td>\n",
       "      <td>14</td>\n",
       "      <td>em@gmail.com</td>\n",
       "      <td>70000.0</td>\n",
       "    </tr>\n",
       "    <tr>\n",
       "      <th>2</th>\n",
       "      <td>3</td>\n",
       "      <td>Phong</td>\n",
       "      <td>28</td>\n",
       "      <td>phong@vanlanguni.vn</td>\n",
       "      <td>10000.0</td>\n",
       "    </tr>\n",
       "    <tr>\n",
       "      <th>3</th>\n",
       "      <td>4</td>\n",
       "      <td>Phú</td>\n",
       "      <td>12</td>\n",
       "      <td>phu@yahoo.com</td>\n",
       "      <td>25000.0</td>\n",
       "    </tr>\n",
       "    <tr>\n",
       "      <th>4</th>\n",
       "      <td>5</td>\n",
       "      <td>Unknow</td>\n",
       "      <td>50</td>\n",
       "      <td>Unknow</td>\n",
       "      <td>15000.0</td>\n",
       "    </tr>\n",
       "  </tbody>\n",
       "</table>\n",
       "</div>"
      ],
      "text/plain": [
       "   id    name  age                email   salary\n",
       "0   1     Anh   20       anh@vlu.edu.vn  30000.0\n",
       "1   2      Em   14         em@gmail.com  70000.0\n",
       "2   3   Phong   28  phong@vanlanguni.vn  10000.0\n",
       "3   4     Phú   12        phu@yahoo.com  25000.0\n",
       "4   5  Unknow   50               Unknow  15000.0"
      ]
     },
     "execution_count": 11,
     "metadata": {},
     "output_type": "execute_result"
    }
   ],
   "source": [
    "# Loại bỏ dữ liệu trùng lập\n",
    "\n",
    "df.drop_duplicates(inplace=True)\n",
    "df"
   ]
  },
  {
   "cell_type": "code",
   "execution_count": 12,
   "metadata": {},
   "outputs": [],
   "source": [
    "# Chuẩn hóa cột name bằng cách viết hoa chữ cái đầu\n",
    "\n",
    "df[\"name\"] = df[\"name\"].str.title()\n"
   ]
  },
  {
   "cell_type": "code",
   "execution_count": 13,
   "metadata": {},
   "outputs": [
    {
     "data": {
      "text/html": [
       "<div>\n",
       "<style scoped>\n",
       "    .dataframe tbody tr th:only-of-type {\n",
       "        vertical-align: middle;\n",
       "    }\n",
       "\n",
       "    .dataframe tbody tr th {\n",
       "        vertical-align: top;\n",
       "    }\n",
       "\n",
       "    .dataframe thead th {\n",
       "        text-align: right;\n",
       "    }\n",
       "</style>\n",
       "<table border=\"1\" class=\"dataframe\">\n",
       "  <thead>\n",
       "    <tr style=\"text-align: right;\">\n",
       "      <th></th>\n",
       "      <th>id</th>\n",
       "      <th>name</th>\n",
       "      <th>age</th>\n",
       "      <th>email</th>\n",
       "      <th>salary</th>\n",
       "    </tr>\n",
       "  </thead>\n",
       "  <tbody>\n",
       "    <tr>\n",
       "      <th>0</th>\n",
       "      <td>1</td>\n",
       "      <td>Anh</td>\n",
       "      <td>20</td>\n",
       "      <td>anh@vlu.edu.vn</td>\n",
       "      <td>30000.0</td>\n",
       "    </tr>\n",
       "    <tr>\n",
       "      <th>1</th>\n",
       "      <td>2</td>\n",
       "      <td>Em</td>\n",
       "      <td>14</td>\n",
       "      <td>em@gmail.com</td>\n",
       "      <td>70000.0</td>\n",
       "    </tr>\n",
       "    <tr>\n",
       "      <th>2</th>\n",
       "      <td>3</td>\n",
       "      <td>Phong</td>\n",
       "      <td>28</td>\n",
       "      <td>phong@vanlanguni.vn</td>\n",
       "      <td>10000.0</td>\n",
       "    </tr>\n",
       "    <tr>\n",
       "      <th>3</th>\n",
       "      <td>4</td>\n",
       "      <td>Phú</td>\n",
       "      <td>12</td>\n",
       "      <td>phu@yahoo.com</td>\n",
       "      <td>25000.0</td>\n",
       "    </tr>\n",
       "    <tr>\n",
       "      <th>4</th>\n",
       "      <td>5</td>\n",
       "      <td>Unknow</td>\n",
       "      <td>50</td>\n",
       "      <td>unknow</td>\n",
       "      <td>15000.0</td>\n",
       "    </tr>\n",
       "  </tbody>\n",
       "</table>\n",
       "</div>"
      ],
      "text/plain": [
       "   id    name  age                email   salary\n",
       "0   1     Anh   20       anh@vlu.edu.vn  30000.0\n",
       "1   2      Em   14         em@gmail.com  70000.0\n",
       "2   3   Phong   28  phong@vanlanguni.vn  10000.0\n",
       "3   4     Phú   12        phu@yahoo.com  25000.0\n",
       "4   5  Unknow   50               unknow  15000.0"
      ]
     },
     "execution_count": 13,
     "metadata": {},
     "output_type": "execute_result"
    }
   ],
   "source": [
    "# Chuẩn hóa cột email bằng cách chuyển về chữ thường\n",
    "\n",
    "df[\"email\"] = df[\"email\"].str.lower()\n",
    "\n",
    "df"
   ]
  },
  {
   "cell_type": "code",
   "execution_count": 14,
   "metadata": {},
   "outputs": [],
   "source": [
    "# Lưu dữ liệu đã làm sạch\n",
    "\n",
    "df.to_csv(\"Dulieulamsach.csv\", index=False)"
   ]
  },
  {
   "cell_type": "markdown",
   "metadata": {},
   "source": [
    "# Bài tập về nhà"
   ]
  },
  {
   "cell_type": "markdown",
   "metadata": {},
   "source": [
    "### Cho dữ liệu dirty_data.csv\n",
    "1. Kiểm tra dữ liệu bị thiếu:\n",
    "    - Kiểm tra các cột có dữ liệu thiếu\n",
    "    - Điền giá trị phù hợp hoặc loại bỏ các hàng có quá nhiều dữ liệu thiếu\n",
    "2. Phát hiện và sửa lỗi dữ liệu bất thường:\n",
    "    - Tìm các giá trị bất thường trong cột tuổi(age) có thể là âm hoặc quá lớn\n",
    "    - Kiểm tra cột thu nhập(income) để phát hiện dữ liệu bị sai\n",
    "3. Chuẩn hóa dạng dữ liệu:\n",
    "    - Chuyển đổi cột ngày sinh và dạng chuẩn yyyy-mm-dd\n",
    "    - Chuẩn hóa dữ liệu trong cột giới tính(gender) để chỉ có 2 giới tính hợp lệ là \"Male\" và \"Female\"\n",
    "4. Xóa bỏ dữ liệu trùng lặp:\n",
    "    - Xác định và xóa các bảng ghi trùng lặp dựa trên thông tin KH \n",
    "5. Xuất dữ liệu sạch:\n",
    "    - Lưu tệp dữ liệu đã làm sạch thành tệp mới clean_data.csv"
   ]
  },
  {
   "cell_type": "code",
   "execution_count": null,
   "metadata": {},
   "outputs": [
    {
     "name": "stdout",
     "output_type": "stream",
     "text": [
      "Số lượng giá trị thiếu trong từng cột:\n",
      "customer_id    0\n",
      "name           0\n",
      "age            1\n",
      "gender         0\n",
      "dob            0\n",
      "income         1\n",
      "email          0\n",
      "dtype: int64\n",
      "Dữ liệu đã được làm sạch và lưu vào clean_data.csv\n"
     ]
    }
   ],
   "source": [
    "import pandas as pd\n",
    "import numpy as np\n",
    "\n",
    "df = pd.read_csv(\"dirty_data.csv\")\n",
    "\n",
    "print(\"Số lượng giá trị thiếu trong từng cột:\")\n",
    "print(df.isnull().sum())\n",
    "\n",
    "df = df.dropna(subset=[\"income\"])\n",
    "\n",
    "df[\"age\"] = df[\"age\"].apply(lambda x: np.nan if x < 0 or x > 120 else x)\n",
    "df[\"age\"] = df[\"age\"].fillna(df[\"age\"].median())  \n",
    "\n",
    "df[\"income\"] = pd.to_numeric(df[\"income\"], errors=\"coerce\")  \n",
    "df[\"income\"] = df[\"income\"].apply(lambda x: np.nan if x < 0 else x)\n",
    "df[\"income\"] = df[\"income\"].fillna(df[\"income\"].median())  \n",
    "\n",
    "df[\"dob\"] = pd.to_datetime(df[\"dob\"], errors=\"coerce\").dt.strftime(\"%Y-%m-%d\")\n",
    "\n",
    "df[\"gender\"] = df[\"gender\"].str.lower().map({\"male\": \"Male\", \"female\": \"Female\", \"m\": \"Male\", \"f\": \"Female\", \"fem\": \"Female\"})\n",
    "df[\"gender\"] = df[\"gender\"].fillna(\"Unknown\")  \n",
    "\n",
    "df = df.drop_duplicates(subset=[\"customer_id\", \"email\"])\n",
    "\n",
    "df.to_csv(\"clean_data.csv\", index=False)\n",
    "\n",
    "print(\"Dữ liệu đã được làm sạch và lưu vào clean_data.csv\")\n"
   ]
  }
 ],
 "metadata": {
  "kernelspec": {
   "display_name": "Python 3",
   "language": "python",
   "name": "python3"
  },
  "language_info": {
   "codemirror_mode": {
    "name": "ipython",
    "version": 3
   },
   "file_extension": ".py",
   "mimetype": "text/x-python",
   "name": "python",
   "nbconvert_exporter": "python",
   "pygments_lexer": "ipython3",
   "version": "3.11.0"
  }
 },
 "nbformat": 4,
 "nbformat_minor": 2
}
