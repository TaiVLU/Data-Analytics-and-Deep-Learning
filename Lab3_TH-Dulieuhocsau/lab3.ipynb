{
 "cells": [
  {
   "cell_type": "markdown",
   "metadata": {},
   "source": [
    "# LÀM SẠCH DỮ LIỆU CƠ BẢN"
   ]
  },
  {
   "cell_type": "code",
   "execution_count": 1,
   "metadata": {},
   "outputs": [],
   "source": [
    "import pandas as pd\n",
    "import numpy as np"
   ]
  },
  {
   "cell_type": "code",
   "execution_count": 11,
   "metadata": {},
   "outputs": [
    {
     "name": "stdout",
     "output_type": "stream",
     "text": [
      "    ID            Name   Age      Weight m0006 m0612 m1218 f0006 f0612 f1218\n",
      "0  1.0    Mickéy Mousé  56.0       70kgs    72    69    71     -     -     -\n",
      "1  2.0     Donald Duck  34.0   154.89lbs     -     -     -    85    84    76\n",
      "2  3.0      Mini Mouse  16.0         NaN     -     -     -    65    69    72\n",
      "3  4.0  Scrooge McDuck   NaN       78kgs    78    79    72     -     -     -\n",
      "4  5.0    Pink Panther  54.0  198.658lbs     -     -     -    69   NaN    75\n"
     ]
    }
   ],
   "source": [
    "column_names = [\"ID\", \"Name\", \"Age\", \"Weight\", \"m0006\", \"m0612\", \"m1218\", \"f0006\", \"f0612\", \"f1218\"]\n",
    "df = pd.read_csv(\"patient_heart_rate.csv\", names=column_names)\n",
    "print(df.head())"
   ]
  },
  {
   "cell_type": "code",
   "execution_count": 13,
   "metadata": {},
   "outputs": [
    {
     "name": "stdout",
     "output_type": "stream",
     "text": [
      "      ID   Age      Weight m0006 m0612 m1218 f0006 f0612 f1218 Firstname  \\\n",
      "0    1.0  56.0       70kgs    72    69    71     -     -     -    Mickéy   \n",
      "1    2.0  34.0   154.89lbs     -     -     -    85    84    76    Donald   \n",
      "2    3.0  16.0         NaN     -     -     -    65    69    72      Mini   \n",
      "3    4.0   NaN       78kgs    78    79    72     -     -     -   Scrooge   \n",
      "4    5.0  54.0  198.658lbs     -     -     -    69   NaN    75      Pink   \n",
      "5    6.0  52.0      189lbs     -     -     -    68    75    72      Huey   \n",
      "6    7.0  19.0       56kgs     -     -     -    71    78    75     Dewey   \n",
      "7    8.0  32.0       78kgs    78    76    75     -     -     -    Scööpy   \n",
      "8    NaN   NaN         NaN   NaN   NaN   NaN   NaN   NaN   NaN       NaN   \n",
      "9    NaN   NaN         NaN   NaN   NaN   NaN   NaN   NaN   NaN       NaN   \n",
      "10   9.0  52.0      189lbs     -     -     -    68    75    72      Huey   \n",
      "11  10.0  12.0       45kgs     -     -     -    92    95    87     Louie   \n",
      "12  11.0   NaN       60kgs    78    75    72     -     -     -     Henry   \n",
      "13  12.0  34.0         NaN    65    67    55     -     -     -    Michel   \n",
      "14  13.0   NaN         NaN     -     -     -    68    72    70      Tana   \n",
      "15  14.0   NaN         NaN   NaN   NaN   NaN   NaN   NaN   NaN  UniLever   \n",
      "16  15.0  52.0      180lbs     -     -     -    68    75    72       NaN   \n",
      "\n",
      "   Lastname  \n",
      "0     Mousé  \n",
      "1      Duck  \n",
      "2     Mouse  \n",
      "3    McDuck  \n",
      "4   Panther  \n",
      "5    McDuck  \n",
      "6    McDuck  \n",
      "7       Doo  \n",
      "8       NaN  \n",
      "9       NaN  \n",
      "10   McDuck  \n",
      "11   McDuck  \n",
      "12      Nam  \n",
      "13     Long  \n",
      "14    Ricky  \n",
      "15     None  \n",
      "16      NaN  \n"
     ]
    }
   ],
   "source": [
    "df[['Firstname', 'Lastname']] = df['Name'].str.split(expand=True)\n",
    "df = df.drop('Name', axis=1)\n",
    "print(df)"
   ]
  },
  {
   "cell_type": "code",
   "execution_count": 17,
   "metadata": {},
   "outputs": [
    {
     "name": "stdout",
     "output_type": "stream",
     "text": [
      "      ID   Age Weight m0006 m0612 m1218 f0006 f0612 f1218 Firstname Lastname\n",
      "0    1.0  56.0  70kgs    72    69    71     -     -     -    Mickéy    Mousé\n",
      "1    2.0  34.0  70kgs     -     -     -    85    84    76    Donald     Duck\n",
      "2    3.0  16.0    NaN     -     -     -    65    69    72      Mini    Mouse\n",
      "3    4.0   NaN  78kgs    78    79    72     -     -     -   Scrooge   McDuck\n",
      "4    5.0  54.0  90kgs     -     -     -    69   NaN    75      Pink  Panther\n",
      "5    6.0  52.0  85kgs     -     -     -    68    75    72      Huey   McDuck\n",
      "6    7.0  19.0  56kgs     -     -     -    71    78    75     Dewey   McDuck\n",
      "7    8.0  32.0  78kgs    78    76    75     -     -     -    Scööpy      Doo\n",
      "8    NaN   NaN    NaN   NaN   NaN   NaN   NaN   NaN   NaN       NaN      NaN\n",
      "9    NaN   NaN    NaN   NaN   NaN   NaN   NaN   NaN   NaN       NaN      NaN\n",
      "10   9.0  52.0  85kgs     -     -     -    68    75    72      Huey   McDuck\n",
      "11  10.0  12.0  45kgs     -     -     -    92    95    87     Louie   McDuck\n",
      "12  11.0   NaN  60kgs    78    75    72     -     -     -     Henry      Nam\n",
      "13  12.0  34.0    NaN    65    67    55     -     -     -    Michel     Long\n",
      "14  13.0   NaN    NaN     -     -     -    68    72    70      Tana    Ricky\n",
      "15  14.0   NaN    NaN   NaN   NaN   NaN   NaN   NaN   NaN  UniLever     None\n",
      "16  15.0  52.0  81kgs     -     -     -    68    75    72       NaN      NaN\n"
     ]
    }
   ],
   "source": [
    "weight = df['Weight']\n",
    "\n",
    "for i in range(len(weight)):\n",
    "    x = str(weight[i])\n",
    "    if \"lbs\" in x[-3:]:\n",
    "        x = x[:-3]  \n",
    "        float_x = float(x) \n",
    "        y = round(float_x / 2.2, 2)  \n",
    "        df.loc[i, 'Weight'] = y  \n",
    "\n",
    "print(df)"
   ]
  },
  {
   "cell_type": "code",
   "execution_count": 18,
   "metadata": {},
   "outputs": [
    {
     "name": "stdout",
     "output_type": "stream",
     "text": [
      "      ID   Age Weight m0006 m0612 m1218 f0006 f0612 f1218 Firstname Lastname\n",
      "0    1.0  56.0  70kgs    72    69    71     -     -     -    Mickéy    Mousé\n",
      "1    2.0  34.0  70kgs     -     -     -    85    84    76    Donald     Duck\n",
      "2    3.0  16.0    NaN     -     -     -    65    69    72      Mini    Mouse\n",
      "3    4.0   NaN  78kgs    78    79    72     -     -     -   Scrooge   McDuck\n",
      "4    5.0  54.0  90kgs     -     -     -    69   NaN    75      Pink  Panther\n",
      "5    6.0  52.0  85kgs     -     -     -    68    75    72      Huey   McDuck\n",
      "6    7.0  19.0  56kgs     -     -     -    71    78    75     Dewey   McDuck\n",
      "7    8.0  32.0  78kgs    78    76    75     -     -     -    Scööpy      Doo\n",
      "10   9.0  52.0  85kgs     -     -     -    68    75    72      Huey   McDuck\n",
      "11  10.0  12.0  45kgs     -     -     -    92    95    87     Louie   McDuck\n",
      "12  11.0   NaN  60kgs    78    75    72     -     -     -     Henry      Nam\n",
      "13  12.0  34.0    NaN    65    67    55     -     -     -    Michel     Long\n",
      "14  13.0   NaN    NaN     -     -     -    68    72    70      Tana    Ricky\n",
      "15  14.0   NaN    NaN   NaN   NaN   NaN   NaN   NaN   NaN  UniLever     None\n",
      "16  15.0  52.0  81kgs     -     -     -    68    75    72       NaN      NaN\n"
     ]
    }
   ],
   "source": [
    "df.dropna(how=\"all\", inplace=True)\n",
    "print(df)"
   ]
  },
  {
   "cell_type": "code",
   "execution_count": 20,
   "metadata": {},
   "outputs": [
    {
     "name": "stdout",
     "output_type": "stream",
     "text": [
      "      ID   Age Weight m0006 m0612 m1218 f0006 f0612 f1218 Firstname Lastname\n",
      "0    1.0  56.0  70kgs    72    69    71     -     -     -    Mickéy    Mousé\n",
      "1    2.0  34.0  70kgs     -     -     -    85    84    76    Donald     Duck\n",
      "2    3.0  16.0    NaN     -     -     -    65    69    72      Mini    Mouse\n",
      "3    4.0   NaN  78kgs    78    79    72     -     -     -   Scrooge   McDuck\n",
      "4    5.0  54.0  90kgs     -     -     -    69   NaN    75      Pink  Panther\n",
      "5    6.0  52.0  85kgs     -     -     -    68    75    72      Huey   McDuck\n",
      "6    7.0  19.0  56kgs     -     -     -    71    78    75     Dewey   McDuck\n",
      "7    8.0  32.0  78kgs    78    76    75     -     -     -    Scööpy      Doo\n",
      "11  10.0  12.0  45kgs     -     -     -    92    95    87     Louie   McDuck\n",
      "12  11.0   NaN  60kgs    78    75    72     -     -     -     Henry      Nam\n",
      "13  12.0  34.0    NaN    65    67    55     -     -     -    Michel     Long\n",
      "14  13.0   NaN    NaN     -     -     -    68    72    70      Tana    Ricky\n",
      "15  14.0   NaN    NaN   NaN   NaN   NaN   NaN   NaN   NaN  UniLever     None\n",
      "16  15.0  52.0  81kgs     -     -     -    68    75    72       NaN      NaN\n"
     ]
    }
   ],
   "source": [
    "df = df.drop_duplicates(subset=['Firstname', 'Lastname', 'Age', 'Weight'])\n",
    "print(df)"
   ]
  },
  {
   "cell_type": "code",
   "execution_count": 21,
   "metadata": {},
   "outputs": [
    {
     "name": "stdout",
     "output_type": "stream",
     "text": [
      "      ID   Age Weight m0006 m0612 m1218 f0006 f0612 f1218 Firstname Lastname\n",
      "0    1.0  56.0  70kgs    72    69    71     -     -     -     Micky     Mous\n",
      "1    2.0  34.0  70kgs     -     -     -    85    84    76    Donald     Duck\n",
      "2    3.0  16.0    NaN     -     -     -    65    69    72      Mini    Mouse\n",
      "3    4.0   NaN  78kgs    78    79    72     -     -     -   Scrooge   McDuck\n",
      "4    5.0  54.0  90kgs     -     -     -    69   NaN    75      Pink  Panther\n",
      "5    6.0  52.0  85kgs     -     -     -    68    75    72      Huey   McDuck\n",
      "6    7.0  19.0  56kgs     -     -     -    71    78    75     Dewey   McDuck\n",
      "7    8.0  32.0  78kgs    78    76    75     -     -     -      Scpy      Doo\n",
      "11  10.0  12.0  45kgs     -     -     -    92    95    87     Louie   McDuck\n",
      "12  11.0   NaN  60kgs    78    75    72     -     -     -     Henry      Nam\n",
      "13  12.0  34.0    NaN    65    67    55     -     -     -    Michel     Long\n",
      "14  13.0   NaN    NaN     -     -     -    68    72    70      Tana    Ricky\n",
      "15  14.0   NaN    NaN   NaN   NaN   NaN   NaN   NaN   NaN  UniLever     None\n",
      "16  15.0  52.0  81kgs     -     -     -    68    75    72       NaN      NaN\n"
     ]
    },
    {
     "name": "stderr",
     "output_type": "stream",
     "text": [
      "C:\\Users\\Admin\\AppData\\Local\\Temp\\ipykernel_8560\\3758458077.py:1: FutureWarning: A value is trying to be set on a copy of a DataFrame or Series through chained assignment using an inplace method.\n",
      "The behavior will change in pandas 3.0. This inplace method will never work because the intermediate object on which we are setting values always behaves as a copy.\n",
      "\n",
      "For example, when doing 'df[col].method(value, inplace=True)', try using 'df.method({col: value}, inplace=True)' or df[col] = df[col].method(value) instead, to perform the operation inplace on the original object.\n",
      "\n",
      "\n",
      "  df.Firstname.replace({r'[^\\x00-\\x7F]+':''}, regex=True, inplace=True)\n",
      "C:\\Users\\Admin\\AppData\\Local\\Temp\\ipykernel_8560\\3758458077.py:1: SettingWithCopyWarning: \n",
      "A value is trying to be set on a copy of a slice from a DataFrame\n",
      "\n",
      "See the caveats in the documentation: https://pandas.pydata.org/pandas-docs/stable/user_guide/indexing.html#returning-a-view-versus-a-copy\n",
      "  df.Firstname.replace({r'[^\\x00-\\x7F]+':''}, regex=True, inplace=True)\n",
      "C:\\Users\\Admin\\AppData\\Local\\Temp\\ipykernel_8560\\3758458077.py:2: FutureWarning: A value is trying to be set on a copy of a DataFrame or Series through chained assignment using an inplace method.\n",
      "The behavior will change in pandas 3.0. This inplace method will never work because the intermediate object on which we are setting values always behaves as a copy.\n",
      "\n",
      "For example, when doing 'df[col].method(value, inplace=True)', try using 'df.method({col: value}, inplace=True)' or df[col] = df[col].method(value) instead, to perform the operation inplace on the original object.\n",
      "\n",
      "\n",
      "  df.Lastname.replace({r'[^\\x00-\\x7F]+':''}, regex=True, inplace=True)\n",
      "C:\\Users\\Admin\\AppData\\Local\\Temp\\ipykernel_8560\\3758458077.py:2: SettingWithCopyWarning: \n",
      "A value is trying to be set on a copy of a slice from a DataFrame\n",
      "\n",
      "See the caveats in the documentation: https://pandas.pydata.org/pandas-docs/stable/user_guide/indexing.html#returning-a-view-versus-a-copy\n",
      "  df.Lastname.replace({r'[^\\x00-\\x7F]+':''}, regex=True, inplace=True)\n"
     ]
    }
   ],
   "source": [
    "df.Firstname.replace({r'[^\\x00-\\x7F]+':''}, regex=True, inplace=True)\n",
    "df.Lastname.replace({r'[^\\x00-\\x7F]+':''}, regex=True, inplace=True)\n",
    "print(df)"
   ]
  },
  {
   "cell_type": "code",
   "execution_count": 22,
   "metadata": {},
   "outputs": [
    {
     "name": "stdout",
     "output_type": "stream",
     "text": [
      "Missing values:\n",
      " Age       4\n",
      "Weight    4\n",
      "dtype: int64\n",
      "      ID   Age Weight m0006 m0612 m1218 f0006 f0612 f1218 Firstname Lastname\n",
      "0    1.0  56.0  70kgs    72    69    71     -     -     -     Micky     Mous\n",
      "1    2.0  34.0  70kgs     -     -     -    85    84    76    Donald     Duck\n",
      "2    3.0  16.0    NaN     -     -     -    65    69    72      Mini    Mouse\n",
      "3    4.0  36.1  78kgs    78    79    72     -     -     -   Scrooge   McDuck\n",
      "4    5.0  54.0  90kgs     -     -     -    69   NaN    75      Pink  Panther\n",
      "5    6.0  52.0  85kgs     -     -     -    68    75    72      Huey   McDuck\n",
      "6    7.0  19.0  56kgs     -     -     -    71    78    75     Dewey   McDuck\n",
      "7    8.0  32.0  78kgs    78    76    75     -     -     -      Scpy      Doo\n",
      "11  10.0  12.0  45kgs     -     -     -    92    95    87     Louie   McDuck\n",
      "12  11.0  36.1  60kgs    78    75    72     -     -     -     Henry      Nam\n",
      "13  12.0  34.0    NaN    65    67    55     -     -     -    Michel     Long\n",
      "14  13.0  36.1    NaN     -     -     -    68    72    70      Tana    Ricky\n",
      "15  14.0  36.1    NaN   NaN   NaN   NaN   NaN   NaN   NaN  UniLever     None\n",
      "16  15.0  52.0  81kgs     -     -     -    68    75    72       NaN      NaN\n"
     ]
    },
    {
     "name": "stderr",
     "output_type": "stream",
     "text": [
      "C:\\Users\\Admin\\AppData\\Local\\Temp\\ipykernel_8560\\2226346419.py:5: FutureWarning: A value is trying to be set on a copy of a DataFrame or Series through chained assignment using an inplace method.\n",
      "The behavior will change in pandas 3.0. This inplace method will never work because the intermediate object on which we are setting values always behaves as a copy.\n",
      "\n",
      "For example, when doing 'df[col].method(value, inplace=True)', try using 'df.method({col: value}, inplace=True)' or df[col] = df[col].method(value) instead, to perform the operation inplace on the original object.\n",
      "\n",
      "\n",
      "  df['Age'].fillna(mean_age, inplace=True)\n",
      "C:\\Users\\Admin\\AppData\\Local\\Temp\\ipykernel_8560\\2226346419.py:5: SettingWithCopyWarning: \n",
      "A value is trying to be set on a copy of a slice from a DataFrame\n",
      "\n",
      "See the caveats in the documentation: https://pandas.pydata.org/pandas-docs/stable/user_guide/indexing.html#returning-a-view-versus-a-copy\n",
      "  df['Age'].fillna(mean_age, inplace=True)\n",
      "C:\\Users\\Admin\\AppData\\Local\\Temp\\ipykernel_8560\\2226346419.py:7: SettingWithCopyWarning: \n",
      "A value is trying to be set on a copy of a slice from a DataFrame\n",
      "\n",
      "See the caveats in the documentation: https://pandas.pydata.org/pandas-docs/stable/user_guide/indexing.html#returning-a-view-versus-a-copy\n",
      "  df.dropna(subset=['Age', 'Weight'], how='all', inplace=True)\n"
     ]
    }
   ],
   "source": [
    "missing_values = df[['Age', 'Weight']].isnull().sum()\n",
    "print(\"Missing values:\\n\", missing_values)\n",
    "\n",
    "mean_age = df['Age'].mean()\n",
    "df['Age'].fillna(mean_age, inplace=True)\n",
    "\n",
    "df.dropna(subset=['Age', 'Weight'], how='all', inplace=True)\n",
    "print(df)\n"
   ]
  },
  {
   "cell_type": "code",
   "execution_count": null,
   "metadata": {},
   "outputs": [
    {
     "name": "stdout",
     "output_type": "stream",
     "text": [
      "      ID   Age Weight Firstname Lastname PulseRate Sex  Time\n",
      "0    1.0  56.0  70kgs     Micky     Mous        72   m  0006\n",
      "1    2.0  34.0  70kgs    Donald     Duck         -   m  0006\n",
      "2    3.0  16.0    NaN      Mini    Mouse         -   m  0006\n",
      "3    4.0  36.1  78kgs   Scrooge   McDuck        78   m  0006\n",
      "4    5.0  54.0  90kgs      Pink  Panther         -   m  0006\n",
      "..   ...   ...    ...       ...      ...       ...  ..   ...\n",
      "78  10.0  12.0  45kgs     Louie   McDuck        87   f  1218\n",
      "79  11.0  36.1  60kgs     Henry      Nam         -   f  1218\n",
      "80  12.0  34.0    NaN    Michel     Long         -   f  1218\n",
      "81  13.0  36.1    NaN      Tana    Ricky        70   f  1218\n",
      "83  15.0  52.0  81kgs       NaN      NaN        72   f  1218\n",
      "\n",
      "[77 rows x 8 columns]\n"
     ]
    }
   ],
   "source": [
    "df_melted = df.melt(id_vars=['ID', 'Age', 'Weight', 'Firstname', 'Lastname'], \n",
    "                     var_name='Original_Column', \n",
    "                     value_name='PulseRate')\n",
    "\n",
    "df_melted['Sex'] = df_melted['Original_Column'].str[0]  \n",
    "df_melted['Time'] = df_melted['Original_Column'].str[1:]  \n",
    "\n",
    "df_melted.drop(columns=['Original_Column'], inplace=True)\n",
    "\n",
    "df_melted.dropna(subset=['PulseRate'], inplace=True)\n",
    "\n",
    "print(df_melted)"
   ]
  },
  {
   "cell_type": "code",
   "execution_count": null,
   "metadata": {},
   "outputs": [
    {
     "name": "stdout",
     "output_type": "stream",
     "text": [
      "Tổng số giá trị bị thiếu: 39\n",
      "Tỷ lệ thiếu: 50.65%\n",
      "      ID   Age Weight Firstname Lastname  PulseRate Sex  Time\n",
      "0    1.0  56.0  70kgs     Micky     Mous  72.000000   m  0006\n",
      "1    2.0  34.0  70kgs    Donald     Duck  81.666667   m  0006\n",
      "2    3.0  16.0    NaN      Mini    Mouse  68.666667   m  0006\n",
      "3    4.0  36.1  78kgs   Scrooge   McDuck  78.000000   m  0006\n",
      "4    5.0  54.0  90kgs      Pink  Panther  72.000000   m  0006\n",
      "..   ...   ...    ...       ...      ...        ...  ..   ...\n",
      "78  10.0  12.0  45kgs     Louie   McDuck  87.000000   f  1218\n",
      "79  11.0  36.1  60kgs     Henry      Nam  74.625000   f  1218\n",
      "80  12.0  34.0    NaN    Michel     Long  62.000000   f  1218\n",
      "81  13.0  36.1    NaN      Tana    Ricky  70.000000   f  1218\n",
      "83  15.0  52.0  81kgs       NaN      NaN  72.000000   f  1218\n",
      "\n",
      "[77 rows x 8 columns]\n"
     ]
    },
    {
     "name": "stderr",
     "output_type": "stream",
     "text": [
      "C:\\Users\\Admin\\AppData\\Local\\Temp\\ipykernel_8560\\4140435356.py:23: FutureWarning: A value is trying to be set on a copy of a DataFrame or Series through chained assignment using an inplace method.\n",
      "The behavior will change in pandas 3.0. This inplace method will never work because the intermediate object on which we are setting values always behaves as a copy.\n",
      "\n",
      "For example, when doing 'df[col].method(value, inplace=True)', try using 'df.method({col: value}, inplace=True)' or df[col] = df[col].method(value) instead, to perform the operation inplace on the original object.\n",
      "\n",
      "\n",
      "  df_melted['PulseRate'].fillna(df_melted['PulseRate'].mean(), inplace=True)\n",
      "C:\\Users\\Admin\\AppData\\Local\\Temp\\ipykernel_8560\\4140435356.py:24: FutureWarning: A value is trying to be set on a copy of a DataFrame or Series through chained assignment using an inplace method.\n",
      "The behavior will change in pandas 3.0. This inplace method will never work because the intermediate object on which we are setting values always behaves as a copy.\n",
      "\n",
      "For example, when doing 'df[col].method(value, inplace=True)', try using 'df.method({col: value}, inplace=True)' or df[col] = df[col].method(value) instead, to perform the operation inplace on the original object.\n",
      "\n",
      "\n",
      "  df_melted['PulseRate'].fillna(75, inplace=True)\n"
     ]
    }
   ],
   "source": [
    "missing_pulserate = df_melted['PulseRate'].isna().sum()\n",
    "total_rows = len(df_melted)\n",
    "missing_percentage = (missing_pulserate / total_rows) * 100\n",
    "print(f\"Tổng số giá trị bị thiếu: {missing_pulserate}\")\n",
    "print(f\"Tỷ lệ thiếu: {missing_percentage:.2f}%\")\n",
    "\n",
    "df_melted['PulseRate'] = pd.to_numeric(df_melted['PulseRate'], errors='coerce')\n",
    "\n",
    "def fill_missing_pulse(group):\n",
    "    group = group.copy()  \n",
    "    group.fillna((group.bfill() + group.ffill()) / 2, inplace=True)\n",
    "    group.fillna(group.shift(1).rolling(2).mean(), inplace=True)\n",
    "    group.fillna(group.shift(-1).rolling(2).mean(), inplace=True)\n",
    "    group.fillna(group.mean(), inplace=True)\n",
    "    return group\n",
    "\n",
    "df_melted['PulseRate'] = df_melted.groupby('ID')['PulseRate'].transform(fill_missing_pulse)\n",
    "df_melted['PulseRate'] = df_melted.groupby('Sex')['PulseRate'].transform(lambda group: group.fillna(group.mean()))\n",
    "df_melted['PulseRate'].fillna(df_melted['PulseRate'].mean(), inplace=True)\n",
    "df_melted['PulseRate'].fillna(75, inplace=True)\n",
    "\n",
    "print(df_melted)"
   ]
  },
  {
   "cell_type": "code",
   "execution_count": null,
   "metadata": {},
   "outputs": [
    {
     "name": "stdout",
     "output_type": "stream",
     "text": [
      "Dữ liệu đã xử lý được lưu thành công vào 'patient_heart_rate_clean.csv'\n"
     ]
    }
   ],
   "source": [
    "threshold = df_melted.shape[1] // 2 \n",
    "df_melted.dropna(thresh=threshold, inplace=True)\n",
    "df_melted.reset_index(drop=True, inplace=True)\n",
    "df_melted.to_csv(\"patient_heart_rate_clean.csv\", index=False, encoding=\"utf-8\")\n",
    "\n",
    "print(\"Dữ liệu đã xử lý được lưu thành công vào 'patient_heart_rate_clean.csv'\")\n"
   ]
  }
 ],
 "metadata": {
  "kernelspec": {
   "display_name": "Python 3",
   "language": "python",
   "name": "python3"
  },
  "language_info": {
   "codemirror_mode": {
    "name": "ipython",
    "version": 3
   },
   "file_extension": ".py",
   "mimetype": "text/x-python",
   "name": "python",
   "nbconvert_exporter": "python",
   "pygments_lexer": "ipython3",
   "version": "3.11.0"
  }
 },
 "nbformat": 4,
 "nbformat_minor": 2
}
