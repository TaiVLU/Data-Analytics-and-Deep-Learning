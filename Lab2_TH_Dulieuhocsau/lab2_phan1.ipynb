{
 "cells": [
  {
   "cell_type": "markdown",
   "metadata": {},
   "source": [
    "# LAB 2: BÀI THỰC HÀNH TRÌNH BÀY DỮ LIỆU\n",
    "Nội dung: Trực quan hóa dữ liệu điểm thi đã được xử lý processed_dulieuxettuyendaihoc.csv\n"
   ]
  },
  {
   "cell_type": "markdown",
   "metadata": {},
   "source": [
    "Mục tiêu: Sinh viên đạt được kiến thức sau:"
   ]
  },
  {
   "cell_type": "markdown",
   "metadata": {},
   "source": [
    "• Trực quan hóa dữ liệu cơ bản"
   ]
  },
  {
   "cell_type": "markdown",
   "metadata": {},
   "source": [
    "• Trình bày dữ liệu cơ bản"
   ]
  },
  {
   "cell_type": "markdown",
   "metadata": {},
   "source": [
    "# Phần 1: Thống kê dữ liệu"
   ]
  },
  {
   "cell_type": "code",
   "execution_count": 1,
   "metadata": {},
   "outputs": [
    {
     "name": "stdout",
     "output_type": "stream",
     "text": [
      "1. Sắp xếp DH1 theo thứ tự tăng dần:\n",
      "    STT   T1   L1   H1   S1   V1   X1   D1   N1   T2  ...  TBM1  TBM2  TBM3  \\\n",
      "53   54  4.9  5.9  6.2  5.6  5.9  5.0  7.0  5.6  6.1  ...  5.69  6.26  6.02   \n",
      "43   44  6.6  7.2  5.9  6.9  7.6  8.1  7.3  6.7  6.3  ...  7.05  6.61  6.77   \n",
      "72   73  5.5  6.6  7.2  7.6  5.5  6.7  6.7  5.2  6.0  ...  6.20  5.88  6.22   \n",
      "5     6  9.3  7.6  7.9  8.6  7.0  7.3  7.7  7.9  9.6  ...  7.96  8.54  7.38   \n",
      "87   88  7.3  4.3  5.3  5.8  4.9  3.7  5.6  5.3  5.9  ...  5.44  5.78  6.48   \n",
      "\n",
      "    XL1  XL2  XL3  US_TBM1  US_TBM2  US_TBM3  KQXT  \n",
      "53   TB   TB   TB    2.276    2.504    2.408   0.0  \n",
      "43    K    K    K    2.820    2.644    2.708   0.0  \n",
      "72   TB   TB   TB    2.480    2.352    2.488   0.0  \n",
      "5     K    G    K    3.184    3.416    2.952   0.0  \n",
      "87   TB   TB   TB    2.176    2.312    2.592   0.0  \n",
      "\n",
      "[5 rows x 66 columns]\n"
     ]
    }
   ],
   "source": [
    "import pandas as pd\n",
    "import numpy as np\n",
    "\n",
    "# Đọc dữ liệu từ file Excel\n",
    "df = pd.read_csv('processed_dulieuxettuyendaihoc.csv')\n",
    "\n",
    "\n",
    "# 1. Sắp xếp dữ liệu điểm DH1 theo thứ tự tăng dần\n",
    "df_sorted_DH1 = df.sort_values(by='DH1')\n",
    "\n",
    "# In kết quả\n",
    "print(\"1. Sắp xếp DH1 theo thứ tự tăng dần:\")\n",
    "print(df_sorted_DH1.head())  # In 5 dòng đầu tiên"
   ]
  },
  {
   "cell_type": "code",
   "execution_count": 15,
   "metadata": {},
   "outputs": [
    {
     "name": "stdout",
     "output_type": "stream",
     "text": [
      "\n",
      "2. Sắp xếp DH2 theo nhóm giới tính:\n",
      "    STT   T1   L1   H1   S1   V1   X1   D1   N1   T2  ...  TBM1  TBM2  TBM3  \\\n",
      "95   96  8.6  6.9  7.4  8.8  7.6  5.8  7.3  5.7  8.9  ...  7.43  7.42  6.83   \n",
      "25   26  3.6  5.8  6.9  6.1  5.5  7.2  5.5  4.3  4.2  ...  5.40  5.20  5.09   \n",
      "24   25  2.4  4.1  3.6  5.5  5.9  5.6  4.9  4.2  3.3  ...  4.45  4.88  5.41   \n",
      "46   47  6.7  6.8  6.4  5.9  5.6  6.4  8.0  6.8  6.6  ...  6.49  6.51  6.16   \n",
      "13   14  4.9  5.4  5.0  5.0  5.8  7.0  4.2  5.8  4.5  ...  5.38  5.51  6.26   \n",
      "\n",
      "    XL1  XL2  XL3  US_TBM1  US_TBM2  US_TBM3  KQXT  \n",
      "95    K    K    K    2.972    2.968    2.732   0.0  \n",
      "25   TB   TB   TB    2.160    2.080    2.036   0.0  \n",
      "24    Y    Y   TB    1.780    1.952    2.164   0.0  \n",
      "46   TB    K   TB    2.596    2.604    2.464   0.0  \n",
      "13   TB   TB   TB    2.152    2.204    2.504   0.0  \n",
      "\n",
      "[5 rows x 66 columns]\n"
     ]
    }
   ],
   "source": [
    "#2. Hãy sắp xếp dữ liệu điểm DH2 tăng dần theo nhóm giới tính\n",
    "df_sorted_DH2_by_gender = df.sort_values(by=['GT', 'DH2'])\n",
    "print(\"\\n2. Sắp xếp DH2 theo nhóm giới tính:\")\n",
    "print(df_sorted_DH2_by_gender.head())\n"
   ]
  },
  {
   "cell_type": "code",
   "execution_count": null,
   "metadata": {},
   "outputs": [
    {
     "name": "stdout",
     "output_type": "stream",
     "text": [
      "\n",
      "3. Pivot table theo KT:\n",
      "   count_nonzero     sum      mean median  amin  amax       std <lambda>  \\\n",
      "             DH1     DH1       DH1    DH1   DH1   DH1       DH1      DH1   \n",
      "KT                                                                         \n",
      "A             49  163.50  3.336735   3.25  1.00  6.50  1.274296   2.2500   \n",
      "A1             6   17.50  2.916667   3.00  2.00  4.25  0.861201   2.1875   \n",
      "B              9   29.50  3.277778   3.50  1.75  4.50  0.823905   3.2500   \n",
      "C             14   79.25  5.660714   5.25  4.75  7.00  0.812209   5.0625   \n",
      "D1            22   84.25  3.829545   3.75  1.25  6.75  1.370146   3.0000   \n",
      "\n",
      "                 \n",
      "     DH1    DH1  \n",
      "KT               \n",
      "A   3.25  4.250  \n",
      "A1  3.00  3.250  \n",
      "B   3.50  3.750  \n",
      "C   5.25  6.375  \n",
      "D1  3.75  4.875  \n"
     ]
    },
    {
     "name": "stderr",
     "output_type": "stream",
     "text": [
      "C:\\Users\\Admin\\AppData\\Local\\Temp\\ipykernel_5832\\810994692.py:2: FutureWarning: The provided callable <function sum at 0x000001EDD821C360> is currently using DataFrameGroupBy.sum. In a future version of pandas, the provided callable will be used directly. To keep current behavior pass the string \"sum\" instead.\n",
      "  pivot_KT = df.pivot_table(\n",
      "C:\\Users\\Admin\\AppData\\Local\\Temp\\ipykernel_5832\\810994692.py:2: FutureWarning: The provided callable <function mean at 0x000001EDD821D9E0> is currently using DataFrameGroupBy.mean. In a future version of pandas, the provided callable will be used directly. To keep current behavior pass the string \"mean\" instead.\n",
      "  pivot_KT = df.pivot_table(\n",
      "C:\\Users\\Admin\\AppData\\Local\\Temp\\ipykernel_5832\\810994692.py:2: FutureWarning: The provided callable <function median at 0x000001EDDE33E520> is currently using DataFrameGroupBy.median. In a future version of pandas, the provided callable will be used directly. To keep current behavior pass the string \"median\" instead.\n",
      "  pivot_KT = df.pivot_table(\n",
      "C:\\Users\\Admin\\AppData\\Local\\Temp\\ipykernel_5832\\810994692.py:2: FutureWarning: The provided callable <function amin at 0x000001EDD821CEA0> is currently using DataFrameGroupBy.min. In a future version of pandas, the provided callable will be used directly. To keep current behavior pass the string \"min\" instead.\n",
      "  pivot_KT = df.pivot_table(\n",
      "C:\\Users\\Admin\\AppData\\Local\\Temp\\ipykernel_5832\\810994692.py:2: FutureWarning: The provided callable <function amax at 0x000001EDD821CCC0> is currently using DataFrameGroupBy.max. In a future version of pandas, the provided callable will be used directly. To keep current behavior pass the string \"max\" instead.\n",
      "  pivot_KT = df.pivot_table(\n",
      "C:\\Users\\Admin\\AppData\\Local\\Temp\\ipykernel_5832\\810994692.py:2: FutureWarning: The provided callable <function std at 0x000001EDD821DBC0> is currently using DataFrameGroupBy.std. In a future version of pandas, the provided callable will be used directly. To keep current behavior pass the string \"std\" instead.\n",
      "  pivot_KT = df.pivot_table(\n"
     ]
    }
   ],
   "source": [
    "#3. Hãy tạo pivot-table để thống kê các giá trị count, sum, mean, median, min, max, std, Q1, Q2 và Q3 của DH1 theo KT\n",
    "pivot_KT = df.pivot_table(\n",
    "    values='DH1',\n",
    "    index='KT',\n",
    "    aggfunc=[np.count_nonzero, np.sum, np.mean, np.median, np.min, np.max, np.std, \n",
    "             lambda x: np.percentile(x, 25),  # Q1\n",
    "             lambda x: np.percentile(x, 50),  # Q2 (median)\n",
    "             lambda x: np.percentile(x, 75)]  # Q3\n",
    ")\n",
    "print(\"\\n3. Pivot table theo KT:\")\n",
    "print(pivot_KT)\n"
   ]
  },
  {
   "cell_type": "code",
   "execution_count": 17,
   "metadata": {},
   "outputs": [
    {
     "name": "stdout",
     "output_type": "stream",
     "text": [
      "\n",
      "4. Pivot table theo KT và KV:\n",
      "       count_nonzero    sum      mean median  amin  amax       std <lambda>  \\\n",
      "                 DH1    DH1       DH1    DH1   DH1   DH1       DH1      DH1   \n",
      "KT KV                                                                         \n",
      "A  1              29  93.75  3.232759  3.250  1.00  6.50  1.369194   2.0000   \n",
      "   2               9  31.75  3.527778  3.500  2.00  6.25  1.427653   2.2500   \n",
      "   2NT            11  38.00  3.454545  3.500  2.00  4.75  0.913908   2.8750   \n",
      "A1 1               2   4.75  2.375000  2.375  2.00  2.75  0.530330   2.1875   \n",
      "   2NT             4  12.75  3.187500  3.250  2.00  4.25  0.921389   2.9375   \n",
      "B  1               8  25.75  3.218750  3.375  1.75  4.50  0.860207   3.0000   \n",
      "   2NT             1   3.75  3.750000  3.750  3.75  3.75       NaN   3.7500   \n",
      "C  1               8  43.50  5.437500  5.250  4.75  7.00  0.728869   5.0000   \n",
      "   2               2  11.50  5.750000  5.750  5.00  6.50  1.060660   5.3750   \n",
      "   2NT             4  24.25  6.062500  6.000  5.25  7.00  0.943729   5.2500   \n",
      "D1 1              13  46.75  3.596154  3.500  1.50  5.75  1.264658   2.7500   \n",
      "   2               8  33.75  4.218750  4.500  1.25  6.75  1.617082   3.5625   \n",
      "   2NT             1   3.75  3.750000  3.750  3.75  3.75       NaN   3.7500   \n",
      "\n",
      "                       \n",
      "          DH1     DH1  \n",
      "KT KV                  \n",
      "A  1    3.250  4.2500  \n",
      "   2    3.500  4.2500  \n",
      "   2NT  3.500  4.1250  \n",
      "A1 1    2.375  2.5625  \n",
      "   2NT  3.250  3.5000  \n",
      "B  1    3.375  3.5625  \n",
      "   2NT  3.750  3.7500  \n",
      "C  1    5.250  5.4375  \n",
      "   2    5.750  6.1250  \n",
      "   2NT  6.000  6.8125  \n",
      "D1 1    3.500  4.2500  \n",
      "   2    4.500  5.0000  \n",
      "   2NT  3.750  3.7500  \n"
     ]
    },
    {
     "name": "stderr",
     "output_type": "stream",
     "text": [
      "C:\\Users\\Admin\\AppData\\Local\\Temp\\ipykernel_5832\\2627536865.py:2: FutureWarning: The provided callable <function sum at 0x000001EDD821C360> is currently using DataFrameGroupBy.sum. In a future version of pandas, the provided callable will be used directly. To keep current behavior pass the string \"sum\" instead.\n",
      "  pivot_KT_KV = df.pivot_table(\n",
      "C:\\Users\\Admin\\AppData\\Local\\Temp\\ipykernel_5832\\2627536865.py:2: FutureWarning: The provided callable <function mean at 0x000001EDD821D9E0> is currently using DataFrameGroupBy.mean. In a future version of pandas, the provided callable will be used directly. To keep current behavior pass the string \"mean\" instead.\n",
      "  pivot_KT_KV = df.pivot_table(\n",
      "C:\\Users\\Admin\\AppData\\Local\\Temp\\ipykernel_5832\\2627536865.py:2: FutureWarning: The provided callable <function median at 0x000001EDDE33E520> is currently using DataFrameGroupBy.median. In a future version of pandas, the provided callable will be used directly. To keep current behavior pass the string \"median\" instead.\n",
      "  pivot_KT_KV = df.pivot_table(\n",
      "C:\\Users\\Admin\\AppData\\Local\\Temp\\ipykernel_5832\\2627536865.py:2: FutureWarning: The provided callable <function amin at 0x000001EDD821CEA0> is currently using DataFrameGroupBy.min. In a future version of pandas, the provided callable will be used directly. To keep current behavior pass the string \"min\" instead.\n",
      "  pivot_KT_KV = df.pivot_table(\n",
      "C:\\Users\\Admin\\AppData\\Local\\Temp\\ipykernel_5832\\2627536865.py:2: FutureWarning: The provided callable <function amax at 0x000001EDD821CCC0> is currently using DataFrameGroupBy.max. In a future version of pandas, the provided callable will be used directly. To keep current behavior pass the string \"max\" instead.\n",
      "  pivot_KT_KV = df.pivot_table(\n",
      "C:\\Users\\Admin\\AppData\\Local\\Temp\\ipykernel_5832\\2627536865.py:2: FutureWarning: The provided callable <function std at 0x000001EDD821DBC0> is currently using DataFrameGroupBy.std. In a future version of pandas, the provided callable will be used directly. To keep current behavior pass the string \"std\" instead.\n",
      "  pivot_KT_KV = df.pivot_table(\n"
     ]
    }
   ],
   "source": [
    "# 4. Hãy tạo pivot-table để thống kê các giá trị count, sum, mean, median, min, max, std, Q1, Q2 và Q3 của DH1 theo KT và KV\n",
    "pivot_KT_KV = df.pivot_table(\n",
    "    values='DH1',\n",
    "    index=['KT', 'KV'],\n",
    "    aggfunc=[np.count_nonzero, np.sum, np.mean, np.median, np.min, np.max, np.std, \n",
    "             lambda x: np.percentile(x, 25), \n",
    "             lambda x: np.percentile(x, 50), \n",
    "             lambda x: np.percentile(x, 75)]\n",
    ")\n",
    "print(\"\\n4. Pivot table theo KT và KV:\")\n",
    "print(pivot_KT_KV)"
   ]
  },
  {
   "cell_type": "code",
   "execution_count": 18,
   "metadata": {},
   "outputs": [
    {
     "name": "stdout",
     "output_type": "stream",
     "text": [
      "\n",
      "5. Pivot table theo KT, KV và DT:\n",
      "           count_nonzero    sum      mean median  amin  amax       std  \\\n",
      "                     DH1    DH1       DH1    DH1   DH1   DH1       DH1   \n",
      "KT KV  DT                                                                \n",
      "A  1   0.0            29  93.75  3.232759  3.250  1.00  6.50  1.369194   \n",
      "   2   0.0             8  27.50  3.437500  3.000  2.00  6.25  1.498511   \n",
      "       6.0             1   4.25  4.250000  4.250  4.25  4.25       NaN   \n",
      "   2NT 0.0            11  38.00  3.454545  3.500  2.00  4.75  0.913908   \n",
      "A1 1   0.0             2   4.75  2.375000  2.375  2.00  2.75  0.530330   \n",
      "   2NT 0.0             4  12.75  3.187500  3.250  2.00  4.25  0.921389   \n",
      "B  1   0.0             8  25.75  3.218750  3.375  1.75  4.50  0.860207   \n",
      "   2NT 0.0             1   3.75  3.750000  3.750  3.75  3.75       NaN   \n",
      "C  1   0.0             8  43.50  5.437500  5.250  4.75  7.00  0.728869   \n",
      "   2   0.0             2  11.50  5.750000  5.750  5.00  6.50  1.060660   \n",
      "   2NT 0.0             4  24.25  6.062500  6.000  5.25  7.00  0.943729   \n",
      "D1 1   0.0            12  43.75  3.645833  3.625  1.50  5.75  1.307576   \n",
      "       1.0             1   3.00  3.000000  3.000  3.00  3.00       NaN   \n",
      "   2   0.0             7  32.50  4.642857  4.500  3.00  6.75  1.171334   \n",
      "       1.0             1   1.25  1.250000  1.250  1.25  1.25       NaN   \n",
      "   2NT 0.0             1   3.75  3.750000  3.750  3.75  3.75       NaN   \n",
      "\n",
      "           <lambda>                 \n",
      "                DH1    DH1     DH1  \n",
      "KT KV  DT                           \n",
      "A  1   0.0   2.0000  3.250  4.2500  \n",
      "   2   0.0   2.2500  3.000  4.1875  \n",
      "       6.0   4.2500  4.250  4.2500  \n",
      "   2NT 0.0   2.8750  3.500  4.1250  \n",
      "A1 1   0.0   2.1875  2.375  2.5625  \n",
      "   2NT 0.0   2.9375  3.250  3.5000  \n",
      "B  1   0.0   3.0000  3.375  3.5625  \n",
      "   2NT 0.0   3.7500  3.750  3.7500  \n",
      "C  1   0.0   5.0000  5.250  5.4375  \n",
      "   2   0.0   5.3750  5.750  6.1250  \n",
      "   2NT 0.0   5.2500  6.000  6.8125  \n",
      "D1 1   0.0   2.6875  3.625  4.4375  \n",
      "       1.0   3.0000  3.000  3.0000  \n",
      "   2   0.0   4.1250  4.500  5.0000  \n",
      "       1.0   1.2500  1.250  1.2500  \n",
      "   2NT 0.0   3.7500  3.750  3.7500  \n"
     ]
    },
    {
     "name": "stderr",
     "output_type": "stream",
     "text": [
      "C:\\Users\\Admin\\AppData\\Local\\Temp\\ipykernel_5832\\2109922112.py:2: FutureWarning: The provided callable <function sum at 0x000001EDD821C360> is currently using DataFrameGroupBy.sum. In a future version of pandas, the provided callable will be used directly. To keep current behavior pass the string \"sum\" instead.\n",
      "  pivot_KT_KV_DT = df.pivot_table(\n",
      "C:\\Users\\Admin\\AppData\\Local\\Temp\\ipykernel_5832\\2109922112.py:2: FutureWarning: The provided callable <function mean at 0x000001EDD821D9E0> is currently using DataFrameGroupBy.mean. In a future version of pandas, the provided callable will be used directly. To keep current behavior pass the string \"mean\" instead.\n",
      "  pivot_KT_KV_DT = df.pivot_table(\n",
      "C:\\Users\\Admin\\AppData\\Local\\Temp\\ipykernel_5832\\2109922112.py:2: FutureWarning: The provided callable <function median at 0x000001EDDE33E520> is currently using DataFrameGroupBy.median. In a future version of pandas, the provided callable will be used directly. To keep current behavior pass the string \"median\" instead.\n",
      "  pivot_KT_KV_DT = df.pivot_table(\n",
      "C:\\Users\\Admin\\AppData\\Local\\Temp\\ipykernel_5832\\2109922112.py:2: FutureWarning: The provided callable <function amin at 0x000001EDD821CEA0> is currently using DataFrameGroupBy.min. In a future version of pandas, the provided callable will be used directly. To keep current behavior pass the string \"min\" instead.\n",
      "  pivot_KT_KV_DT = df.pivot_table(\n",
      "C:\\Users\\Admin\\AppData\\Local\\Temp\\ipykernel_5832\\2109922112.py:2: FutureWarning: The provided callable <function amax at 0x000001EDD821CCC0> is currently using DataFrameGroupBy.max. In a future version of pandas, the provided callable will be used directly. To keep current behavior pass the string \"max\" instead.\n",
      "  pivot_KT_KV_DT = df.pivot_table(\n",
      "C:\\Users\\Admin\\AppData\\Local\\Temp\\ipykernel_5832\\2109922112.py:2: FutureWarning: The provided callable <function std at 0x000001EDD821DBC0> is currently using DataFrameGroupBy.std. In a future version of pandas, the provided callable will be used directly. To keep current behavior pass the string \"std\" instead.\n",
      "  pivot_KT_KV_DT = df.pivot_table(\n"
     ]
    }
   ],
   "source": [
    "#5. Hãy tạo pivot-table để thống kê các giá trị count, sum, mean, median, min, max, std, Q1, Q2 và Q3 của DH1 theo KT, KV và DT\n",
    "pivot_KT_KV_DT = df.pivot_table(\n",
    "    values='DH1',\n",
    "    index=['KT', 'KV', 'DT'],\n",
    "    aggfunc=[np.count_nonzero, np.sum, np.mean, np.median, np.min, np.max, np.std, \n",
    "             lambda x: np.percentile(x, 25), \n",
    "             lambda x: np.percentile(x, 50), \n",
    "             lambda x: np.percentile(x, 75)]\n",
    ")\n",
    "print(\"\\n5. Pivot table theo KT, KV và DT:\")\n",
    "print(pivot_KT_KV_DT)"
   ]
  }
 ],
 "metadata": {
  "kernelspec": {
   "display_name": "Python 3",
   "language": "python",
   "name": "python3"
  },
  "language_info": {
   "codemirror_mode": {
    "name": "ipython",
    "version": 3
   },
   "file_extension": ".py",
   "mimetype": "text/x-python",
   "name": "python",
   "nbconvert_exporter": "python",
   "pygments_lexer": "ipython3",
   "version": "3.11.0"
  }
 },
 "nbformat": 4,
 "nbformat_minor": 2
}
